{
 "cells": [
  {
   "cell_type": "code",
   "execution_count": null,
   "id": "553cedbd",
   "metadata": {},
   "outputs": [],
   "source": [
    "#Write a program to check if two strings are a rotation of each other"
   ]
  },
  {
   "cell_type": "code",
   "execution_count": 1,
   "id": "2f4ba5be",
   "metadata": {},
   "outputs": [
    {
     "name": "stdout",
     "output_type": "stream",
     "text": [
      "Strings are rotations of each other\n"
     ]
    }
   ],
   "source": [
    "def areRotations(string1, string2):\n",
    "    size1 = len(string1)\n",
    "    size2 = len(string2)\n",
    "    temp = ''\n",
    " \n",
    "    # Check if sizes of two strings are same\n",
    "    if size1 != size2:\n",
    "        return 0\n",
    " \n",
    "    # Create a temp string with value str1.str1\n",
    "    temp = string1 + string1\n",
    " \n",
    "    # Now check if str2 is a substring of temp\n",
    "    # string.count returns the number of occurrences of\n",
    "    # the second string in temp\n",
    "    if (temp.count(string2)> 0):\n",
    "        return 1\n",
    "    else:\n",
    "        return 0\n",
    " \n",
    "# Driver program to test the above function\n",
    "string1 = \"AACD\"\n",
    "string2 = \"ACDA\"\n",
    " \n",
    "if areRotations(string1, string2):\n",
    "    print (\"Strings are rotations of each other\")\n",
    "else:\n",
    "    print (\"Strings are not rotations of each other\")\n",
    " "
   ]
  },
  {
   "cell_type": "code",
   "execution_count": null,
   "id": "478244fa",
   "metadata": {},
   "outputs": [],
   "source": []
  }
 ],
 "metadata": {
  "kernelspec": {
   "display_name": "Python 3",
   "language": "python",
   "name": "python3"
  },
  "language_info": {
   "codemirror_mode": {
    "name": "ipython",
    "version": 3
   },
   "file_extension": ".py",
   "mimetype": "text/x-python",
   "name": "python",
   "nbconvert_exporter": "python",
   "pygments_lexer": "ipython3",
   "version": "3.8.8"
  }
 },
 "nbformat": 4,
 "nbformat_minor": 5
}
