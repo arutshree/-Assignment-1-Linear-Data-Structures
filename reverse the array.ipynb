{
 "cells": [
  {
   "cell_type": "code",
   "execution_count": null,
   "id": "b7f07ed2",
   "metadata": {},
   "outputs": [],
   "source": [
    "# Iterative python program to reverse an array"
   ]
  },
  {
   "cell_type": "code",
   "execution_count": 1,
   "id": "6931cfe1",
   "metadata": {},
   "outputs": [
    {
     "name": "stdout",
     "output_type": "stream",
     "text": [
      "[1, 2, 3, 4, 5, 6]\n",
      "Reversed list is [6, 5, 4, 3, 2, 1]\n"
     ]
    }
   ],
   "source": [
    "\n",
    "# Function to reverse A[] from start to end\n",
    "def reverseList(A, start, end):\n",
    "    while start < end:\n",
    "        A[start], A[end] = A[end], A[start]\n",
    "        start += 1\n",
    "        end -= 1\n",
    " \n",
    "    A = [1, 2, 3, 4, 5, 6]\n",
    "    print(A)\n",
    "    reverseList(A, 0, 5)\n",
    "    print(\"Reversed list is\",A)"
   ]
  },
  {
   "cell_type": "code",
   "execution_count": null,
   "id": "3520b670",
   "metadata": {},
   "outputs": [],
   "source": []
  }
 ],
 "metadata": {
  "kernelspec": {
   "display_name": "Python 3",
   "language": "python",
   "name": "python3"
  },
  "language_info": {
   "codemirror_mode": {
    "name": "ipython",
    "version": 3
   },
   "file_extension": ".py",
   "mimetype": "text/x-python",
   "name": "python",
   "nbconvert_exporter": "python",
   "pygments_lexer": "ipython3",
   "version": "3.8.8"
  }
 },
 "nbformat": 4,
 "nbformat_minor": 5
}
