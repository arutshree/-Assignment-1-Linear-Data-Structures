{
 "cells": [
  {
   "cell_type": "code",
   "execution_count": null,
   "id": "0b908318",
   "metadata": {},
   "outputs": [],
   "source": [
    "#Write a program to find all pairs of an integer array whose sum is equal to a given number"
   ]
  },
  {
   "cell_type": "code",
   "execution_count": 2,
   "id": "9d3181ab",
   "metadata": {},
   "outputs": [
    {
     "name": "stdout",
     "output_type": "stream",
     "text": [
      "(1, 5)\n",
      "(1, 5)\n",
      "(7, -1)\n"
     ]
    }
   ],
   "source": [
    "def printPairs(arr, n, sum):\n",
    " \n",
    "                                                              \n",
    "    for i in range(0, n ):           # count = 0\n",
    "        for j in range(i + 1, n ):\n",
    "            if (arr[i] + arr[j] == sum):\n",
    "                print(\"(\", arr[i],\", \", arr[j],\")\", sep = \"\")\n",
    " \n",
    "    arr = [1, 5, 7, -1, 5]\n",
    "    n = len(arr)\n",
    "    sum = 6\n",
    "    printPairs(arr, n, sum)"
   ]
  },
  {
   "cell_type": "code",
   "execution_count": null,
   "id": "055d1007",
   "metadata": {},
   "outputs": [],
   "source": []
  }
 ],
 "metadata": {
  "kernelspec": {
   "display_name": "Python 3",
   "language": "python",
   "name": "python3"
  },
  "language_info": {
   "codemirror_mode": {
    "name": "ipython",
    "version": 3
   },
   "file_extension": ".py",
   "mimetype": "text/x-python",
   "name": "python",
   "nbconvert_exporter": "python",
   "pygments_lexer": "ipython3",
   "version": "3.8.8"
  }
 },
 "nbformat": 4,
 "nbformat_minor": 5
}
